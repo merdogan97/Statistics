{
  "nbformat": 4,
  "nbformat_minor": 0,
  "metadata": {
    "colab": {
      "name": "Statistics_17.01.2022.ipynb",
      "provenance": [],
      "collapsed_sections": [],
      "authorship_tag": "ABX9TyMMzyepnS08auUdBdg22pvl",
      "include_colab_link": true
    },
    "kernelspec": {
      "name": "python3",
      "display_name": "Python 3"
    },
    "language_info": {
      "name": "python"
    }
  },
  "cells": [
    {
      "cell_type": "markdown",
      "metadata": {
        "id": "view-in-github",
        "colab_type": "text"
      },
      "source": [
        "<a href=\"https://colab.research.google.com/github/merdogan97/Statistics/blob/main/Statistics_17_01_2022.ipynb\" target=\"_parent\"><img src=\"https://colab.research.google.com/assets/colab-badge.svg\" alt=\"Open In Colab\"/></a>"
      ]
    },
    {
      "cell_type": "code",
      "execution_count": null,
      "metadata": {
        "id": "ItndwdnHanrh"
      },
      "outputs": [],
      "source": [
        "import numpy as np\n",
        "import pandas as pd\n",
        "from scipy import stats\n",
        "import matplotlib.pyplot as plt\n",
        "import seaborn as sns"
      ]
    },
    {
      "cell_type": "code",
      "source": [
        "happiness_score = [2.69,5.00,5.04,5.79,5.06,7.18,7.40,5.17,4.50,5.23,6.89,5.82,5.92,5.89,3.46,6.19,5.10,4.93,3.78,5.12,5.25,\n",
        "                   7.18, 4.49,6.44,5.13,5.98,3.97,5.49,7.14,5.54,7.03,7.65,5.43,6.13,4.01,6.28,6.09,4.38,7.86,6.67,4.78,4.92,\n",
        "                   4.66,7.12,5.41,6.63,5.25, 3.61,5.91,3.82,5.34,4.28,6.96,6.93,6.52,5.27,5.79,4.64,6.01,4.66,5.30,4.86,5.90,\n",
        "                   5.17,4.13,6.31,7.24,5.24,4.07,3.33,5.34,4.42,4.31,5.88,6.55,5.68,5.46,5.65,4.90,4.65,4.41,4.83,4.91,7.46,\n",
        "                   7.37,5.82,5.16,5.25,7.44,5.47,6.28,5.68,5.87,5.92,6.15,5.51,3.56,6.36,4.77,5.94,4.31,6.24,6.25,4.88,\n",
        "                   5.84,6.51,4.40,7.37,7.51,3.45,6.01,4.02,4.74,5.19,4.62,4.32,4.66,6.60,7.23,6.88,6.37,6.21,5.01,5.30,\n",
        "                   4.04,3.62]"
      ],
      "metadata": {
        "id": "v0s3LRHpbr1_"
      },
      "execution_count": 5,
      "outputs": []
    },
    {
      "cell_type": "code",
      "source": [
        "life_exp = [52.60,68.70,65.90,68.80,66.90,73.60,73.00,65.50,64.30,66.10,72.00,54.30,63.60,67.80,58.90,66.40,66.80,\n",
        "            53.90,53.40,61.60,52.70,73.60,48.20,69.90,69.30,67.70,57.20,57.90,71.30,70.20,70.30,72.40,65.80, 68.50,\n",
        "            61.70,66.10,68.60,58.50,71.90,73.80,59.70,55.00,64.50,72.20,72.40,64.80,54.40,55.70,67.20,60.10,62.10,66.00,\n",
        "            72.30,73.30,73.60,49.50,75.00,66.80,64.60,60.10,64.10,58.70,66.80,67.10,56.10, 67.30,72.60,67.50,59.10,57.60,\n",
        "            67.00,51.70,57.00,66.40,68.30,65.00,62.30,68.50,65.90,54.20,59.00,56.50,63.50,72.30,73.20,67.50,53.50,49.70,\n",
        "            73.20,58.50,69.60,68.10,61.90,72.40,67.20,64.30,61.10, 66.30,59.60,68.20,50.80,68.90,71.10,56.50,73.60,\n",
        "            74.40,67.20,72.60,74.10,57.50,67.20,54.70,66.90,66.80,62.20,55.70,64.60,67.10,72.30,68.30,69.00,65.10,66.50,\n",
        "            67.90,55.30,55.60]"
      ],
      "metadata": {
        "id": "vJM_36yZbs7v"
      },
      "execution_count": 6,
      "outputs": []
    },
    {
      "cell_type": "code",
      "source": [
        "type(happiness_score)"
      ],
      "metadata": {
        "id": "Y4p59X4BbEA4",
        "colab": {
          "base_uri": "https://localhost:8080/"
        },
        "outputId": "2916ae2c-77a2-43bc-b809-a1d9ec1953ab"
      },
      "execution_count": 7,
      "outputs": [
        {
          "output_type": "execute_result",
          "data": {
            "text/plain": [
              "list"
            ]
          },
          "metadata": {},
          "execution_count": 7
        }
      ]
    },
    {
      "cell_type": "code",
      "source": [
        "type(life_exp)"
      ],
      "metadata": {
        "colab": {
          "base_uri": "https://localhost:8080/"
        },
        "id": "m7tPX-x_bZmi",
        "outputId": "c797cb69-3512-45d0-8235-11cac882efb9"
      },
      "execution_count": 8,
      "outputs": [
        {
          "output_type": "execute_result",
          "data": {
            "text/plain": [
              "list"
            ]
          },
          "metadata": {},
          "execution_count": 8
        }
      ]
    },
    {
      "cell_type": "code",
      "source": [
        "np.mean(life_exp)"
      ],
      "metadata": {
        "colab": {
          "base_uri": "https://localhost:8080/"
        },
        "id": "iJ1Y_bUbbeuF",
        "outputId": "19655437-1e77-4764-bbe3-02de448027e5"
      },
      "execution_count": 9,
      "outputs": [
        {
          "output_type": "execute_result",
          "data": {
            "text/plain": [
              "64.52142857142859"
            ]
          },
          "metadata": {},
          "execution_count": 9
        }
      ]
    },
    {
      "cell_type": "code",
      "source": [
        "np.median(life_exp)       # left skewed    mean < median"
      ],
      "metadata": {
        "colab": {
          "base_uri": "https://localhost:8080/"
        },
        "id": "O-c8wzR3b8tZ",
        "outputId": "01001055-edfa-476e-ef99-9d109e47214d"
      },
      "execution_count": 10,
      "outputs": [
        {
          "output_type": "execute_result",
          "data": {
            "text/plain": [
              "66.35"
            ]
          },
          "metadata": {},
          "execution_count": 10
        }
      ]
    },
    {
      "cell_type": "code",
      "source": [
        "np.mean(happiness_score)"
      ],
      "metadata": {
        "colab": {
          "base_uri": "https://localhost:8080/"
        },
        "id": "bP-ww2ltcCKp",
        "outputId": "299e453e-830f-43b3-d418-b9867d37a086"
      },
      "execution_count": 11,
      "outputs": [
        {
          "output_type": "execute_result",
          "data": {
            "text/plain": [
              "5.499523809523809"
            ]
          },
          "metadata": {},
          "execution_count": 11
        }
      ]
    },
    {
      "cell_type": "code",
      "source": [
        "np.median(happiness_score)      # right skewed   mean > median"
      ],
      "metadata": {
        "colab": {
          "base_uri": "https://localhost:8080/"
        },
        "id": "zHQ_yhaKcFyL",
        "outputId": "fd740c3b-cb51-4a75-b99a-1a7712360043"
      },
      "execution_count": 12,
      "outputs": [
        {
          "output_type": "execute_result",
          "data": {
            "text/plain": [
              "5.42"
            ]
          },
          "metadata": {},
          "execution_count": 12
        }
      ]
    },
    {
      "cell_type": "code",
      "source": [
        "np.var(life_exp)    # karakökü SS 'dır"
      ],
      "metadata": {
        "colab": {
          "base_uri": "https://localhost:8080/"
        },
        "id": "9Isjc6r1cm_Y",
        "outputId": "65ba6292-0f64-4f5d-f9eb-c3908754243a"
      },
      "execution_count": 13,
      "outputs": [
        {
          "output_type": "execute_result",
          "data": {
            "text/plain": [
              "44.22819160997732"
            ]
          },
          "metadata": {},
          "execution_count": 13
        }
      ]
    },
    {
      "cell_type": "code",
      "source": [
        "np.std(life_exp)"
      ],
      "metadata": {
        "colab": {
          "base_uri": "https://localhost:8080/"
        },
        "id": "FqWnI_sNc3Ve",
        "outputId": "2dc871a2-31ff-4c82-c149-ddd21251c68f"
      },
      "execution_count": 14,
      "outputs": [
        {
          "output_type": "execute_result",
          "data": {
            "text/plain": [
              "6.6504279268312745"
            ]
          },
          "metadata": {},
          "execution_count": 14
        }
      ]
    },
    {
      "cell_type": "code",
      "source": [
        ""
      ],
      "metadata": {
        "id": "5K42Ihr1d2Wx"
      },
      "execution_count": null,
      "outputs": []
    },
    {
      "cell_type": "code",
      "source": [
        "np.var(happiness_score)"
      ],
      "metadata": {
        "colab": {
          "base_uri": "https://localhost:8080/"
        },
        "id": "OMIxnOnJdEIh",
        "outputId": "9dd4051a-a558-46db-b953-e1675d0b60e6"
      },
      "execution_count": 15,
      "outputs": [
        {
          "output_type": "execute_result",
          "data": {
            "text/plain": [
              "1.196866439909297"
            ]
          },
          "metadata": {},
          "execution_count": 15
        }
      ]
    },
    {
      "cell_type": "code",
      "source": [
        "np.std(happiness_score)     # normale yakın bir değer"
      ],
      "metadata": {
        "colab": {
          "base_uri": "https://localhost:8080/"
        },
        "id": "4hQkZgXSdKfy",
        "outputId": "beaf9caa-16ee-49fb-b950-2b60c6e2e0ec"
      },
      "execution_count": 16,
      "outputs": [
        {
          "output_type": "execute_result",
          "data": {
            "text/plain": [
              "1.0940139121187158"
            ]
          },
          "metadata": {},
          "execution_count": 16
        }
      ]
    },
    {
      "cell_type": "code",
      "source": [
        "q1= np.percentile(life_exp, 25)\n",
        "q1                                # %25 59.025 'ten küçük değerler"
      ],
      "metadata": {
        "colab": {
          "base_uri": "https://localhost:8080/"
        },
        "id": "vsUHuWZkd6nY",
        "outputId": "7550948f-32e0-40c9-b3d0-81baf1547032"
      },
      "execution_count": 17,
      "outputs": [
        {
          "output_type": "execute_result",
          "data": {
            "text/plain": [
              "59.025"
            ]
          },
          "metadata": {},
          "execution_count": 17
        }
      ]
    },
    {
      "cell_type": "code",
      "source": [
        "q3= np.percentile(life_exp, 75)\n",
        "q3"
      ],
      "metadata": {
        "colab": {
          "base_uri": "https://localhost:8080/"
        },
        "id": "HA2L_GZBeSKP",
        "outputId": "13a0dc25-b96f-444d-97d8-e535c650a6b6"
      },
      "execution_count": 20,
      "outputs": [
        {
          "output_type": "execute_result",
          "data": {
            "text/plain": [
              "68.875"
            ]
          },
          "metadata": {},
          "execution_count": 20
        }
      ]
    },
    {
      "cell_type": "code",
      "source": [
        "stats.iqr(life_exp)   # q1-1.5*iqr       q3+ 1.5*iqr      (outliers)"
      ],
      "metadata": {
        "colab": {
          "base_uri": "https://localhost:8080/"
        },
        "id": "JTOSjTgCef34",
        "outputId": "b89ebc4e-aa6d-4f46-c21d-91a6d92d0c73"
      },
      "execution_count": 22,
      "outputs": [
        {
          "output_type": "execute_result",
          "data": {
            "text/plain": [
              "9.850000000000001"
            ]
          },
          "metadata": {},
          "execution_count": 22
        }
      ]
    },
    {
      "cell_type": "code",
      "source": [
        "np.max(life_exp)"
      ],
      "metadata": {
        "colab": {
          "base_uri": "https://localhost:8080/"
        },
        "id": "2myD1026fVzd",
        "outputId": "c5084224-6906-4e01-a19a-071962a2e9e4"
      },
      "execution_count": 23,
      "outputs": [
        {
          "output_type": "execute_result",
          "data": {
            "text/plain": [
              "75.0"
            ]
          },
          "metadata": {},
          "execution_count": 23
        }
      ]
    },
    {
      "cell_type": "code",
      "source": [
        "stats.skew(life_exp)        #"
      ],
      "metadata": {
        "colab": {
          "base_uri": "https://localhost:8080/"
        },
        "id": "a_opK92oflAj",
        "outputId": "6c61508c-61db-4841-c2a7-1a8ea347fee0"
      },
      "execution_count": 24,
      "outputs": [
        {
          "output_type": "execute_result",
          "data": {
            "text/plain": [
              "-0.507998161416463"
            ]
          },
          "metadata": {},
          "execution_count": 24
        }
      ]
    },
    {
      "cell_type": "code",
      "source": [
        "stats.kurtosis(life_exp)        # o olsaydı normal, - ise daha basık diyebiliriz."
      ],
      "metadata": {
        "colab": {
          "base_uri": "https://localhost:8080/"
        },
        "id": "mRlI6haMfwdq",
        "outputId": "f3728944-915c-46df-cf29-d6317998d862"
      },
      "execution_count": 25,
      "outputs": [
        {
          "output_type": "execute_result",
          "data": {
            "text/plain": [
              "-0.7040394620922208"
            ]
          },
          "metadata": {},
          "execution_count": 25
        }
      ]
    },
    {
      "cell_type": "code",
      "source": [
        "plt.hist(life_exp)"
      ],
      "metadata": {
        "colab": {
          "base_uri": "https://localhost:8080/",
          "height": 335
        },
        "id": "ujFE6leOgBJh",
        "outputId": "6bc5d1ff-2dd4-4419-9fa5-2e5e0ddbc002"
      },
      "execution_count": 26,
      "outputs": [
        {
          "output_type": "execute_result",
          "data": {
            "text/plain": [
              "(array([ 4.,  5., 11., 11.,  7.,  9., 25., 26., 11., 17.]),\n",
              " array([48.2 , 50.88, 53.56, 56.24, 58.92, 61.6 , 64.28, 66.96, 69.64,\n",
              "        72.32, 75.  ]),\n",
              " <a list of 10 Patch objects>)"
            ]
          },
          "metadata": {},
          "execution_count": 26
        },
        {
          "output_type": "display_data",
          "data": {
            "image/png": "[encoded data removed]",
            "text/plain": [
              "<Figure size 432x288 with 1 Axes>"
            ]
          },
          "metadata": {
            "needs_background": "light"
          }
        }
      ]
    },
    {
      "cell_type": "code",
      "source": [
        "sns.kdeplot(life_exp)"
      ],
      "metadata": {
        "colab": {
          "base_uri": "https://localhost:8080/",
          "height": 283
        },
        "id": "Y6gSbyWwgL_D",
        "outputId": "c44bac5b-1a1a-44bc-97f9-df74740f6c09"
      },
      "execution_count": 27,
      "outputs": [
        {
          "output_type": "execute_result",
          "data": {
            "text/plain": [
              "<matplotlib.axes._subplots.AxesSubplot at 0x7f5ff9afff10>"
            ]
          },
          "metadata": {},
          "execution_count": 27
        },
        {
          "output_type": "display_data",
          "data": {
            "image/png": "[encoded data removed]",
            "text/plain": [
              "<Figure size 432x288 with 1 Axes>"
            ]
          },
          "metadata": {
            "needs_background": "light"
          }
        }
      ]
    },
    {
      "cell_type": "code",
      "source": [
        "sns.scatterplot(x=life_exp, y=happiness_score)\n",
        "plt.show()"
      ],
      "metadata": {
        "colab": {
          "base_uri": "https://localhost:8080/",
          "height": 265
        },
        "id": "UqNYBx6PgXFy",
        "outputId": "8a9b5f74-401f-4a80-9a0f-bf9b492993b8"
      },
      "execution_count": 29,
      "outputs": [
        {
          "output_type": "display_data",
          "data": {
            "image/png": "[encoded data removed]",
            "text/plain": [
              "<Figure size 432x288 with 1 Axes>"
            ]
          },
          "metadata": {
            "needs_background": "light"
          }
        }
      ]
    },
    {
      "cell_type": "code",
      "source": [
        "r, p = stats.pearsonr(happiness_score, life_exp)\n",
        "r"
      ],
      "metadata": {
        "colab": {
          "base_uri": "https://localhost:8080/"
        },
        "id": "RvnQ9lg_g9i2",
        "outputId": "d6d86421-fb06-4d7d-8c13-5f0cf4f6cf1f"
      },
      "execution_count": 32,
      "outputs": [
        {
          "output_type": "execute_result",
          "data": {
            "text/plain": [
              "0.7406268830335517"
            ]
          },
          "metadata": {},
          "execution_count": 32
        }
      ]
    },
    {
      "cell_type": "code",
      "source": [
        "np.corrcoef(happiness_score, life_exp)    # bazı kaynaklarda sadece üstünü gösterir.."
      ],
      "metadata": {
        "colab": {
          "base_uri": "https://localhost:8080/"
        },
        "id": "TVWXqb-1hQ7g",
        "outputId": "94c3f146-b2ad-46af-e6ad-e46af87d7e65"
      },
      "execution_count": 33,
      "outputs": [
        {
          "output_type": "execute_result",
          "data": {
            "text/plain": [
              "array([[1.        , 0.74062688],\n",
              "       [0.74062688, 1.        ]])"
            ]
          },
          "metadata": {},
          "execution_count": 33
        }
      ]
    },
    {
      "cell_type": "code",
      "source": [
        "x=np. array(happiness_score)    # matematiksel işlem yapmam için arraye atmma lazım\n",
        "x\n"
      ],
      "metadata": {
        "colab": {
          "base_uri": "https://localhost:8080/"
        },
        "id": "GcjU8p1rho9Z",
        "outputId": "e308e07d-8397-45ca-8ece-0c98dcc46f42"
      },
      "execution_count": 35,
      "outputs": [
        {
          "output_type": "execute_result",
          "data": {
            "text/plain": [
              "array([2.69, 5.  , 5.04, 5.79, 5.06, 7.18, 7.4 , 5.17, 4.5 , 5.23, 6.89,\n",
              "       5.82, 5.92, 5.89, 3.46, 6.19, 5.1 , 4.93, 3.78, 5.12, 5.25, 7.18,\n",
              "       4.49, 6.44, 5.13, 5.98, 3.97, 5.49, 7.14, 5.54, 7.03, 7.65, 5.43,\n",
              "       6.13, 4.01, 6.28, 6.09, 4.38, 7.86, 6.67, 4.78, 4.92, 4.66, 7.12,\n",
              "       5.41, 6.63, 5.25, 3.61, 5.91, 3.82, 5.34, 4.28, 6.96, 6.93, 6.52,\n",
              "       5.27, 5.79, 4.64, 6.01, 4.66, 5.3 , 4.86, 5.9 , 5.17, 4.13, 6.31,\n",
              "       7.24, 5.24, 4.07, 3.33, 5.34, 4.42, 4.31, 5.88, 6.55, 5.68, 5.46,\n",
              "       5.65, 4.9 , 4.65, 4.41, 4.83, 4.91, 7.46, 7.37, 5.82, 5.16, 5.25,\n",
              "       7.44, 5.47, 6.28, 5.68, 5.87, 5.92, 6.15, 5.51, 3.56, 6.36, 4.77,\n",
              "       5.94, 4.31, 6.24, 6.25, 4.88, 5.84, 6.51, 4.4 , 7.37, 7.51, 3.45,\n",
              "       6.01, 4.02, 4.74, 5.19, 4.62, 4.32, 4.66, 6.6 , 7.23, 6.88, 6.37,\n",
              "       6.21, 5.01, 5.3 , 4.04, 3.62])"
            ]
          },
          "metadata": {},
          "execution_count": 35
        }
      ]
    },
    {
      "cell_type": "code",
      "source": [
        "y = np.array(life_exp)\n",
        "y"
      ],
      "metadata": {
        "colab": {
          "base_uri": "https://localhost:8080/"
        },
        "id": "0kaY86ejh9AP",
        "outputId": "0e2843db-bb09-4511-cbf5-ef7649e6c05f"
      },
      "execution_count": 40,
      "outputs": [
        {
          "output_type": "execute_result",
          "data": {
            "text/plain": [
              "array([52.6, 68.7, 65.9, 68.8, 66.9, 73.6, 73. , 65.5, 64.3, 66.1, 72. ,\n",
              "       54.3, 63.6, 67.8, 58.9, 66.4, 66.8, 53.9, 53.4, 61.6, 52.7, 73.6,\n",
              "       48.2, 69.9, 69.3, 67.7, 57.2, 57.9, 71.3, 70.2, 70.3, 72.4, 65.8,\n",
              "       68.5, 61.7, 66.1, 68.6, 58.5, 71.9, 73.8, 59.7, 55. , 64.5, 72.2,\n",
              "       72.4, 64.8, 54.4, 55.7, 67.2, 60.1, 62.1, 66. , 72.3, 73.3, 73.6,\n",
              "       49.5, 75. , 66.8, 64.6, 60.1, 64.1, 58.7, 66.8, 67.1, 56.1, 67.3,\n",
              "       72.6, 67.5, 59.1, 57.6, 67. , 51.7, 57. , 66.4, 68.3, 65. , 62.3,\n",
              "       68.5, 65.9, 54.2, 59. , 56.5, 63.5, 72.3, 73.2, 67.5, 53.5, 49.7,\n",
              "       73.2, 58.5, 69.6, 68.1, 61.9, 72.4, 67.2, 64.3, 61.1, 66.3, 59.6,\n",
              "       68.2, 50.8, 68.9, 71.1, 56.5, 73.6, 74.4, 67.2, 72.6, 74.1, 57.5,\n",
              "       67.2, 54.7, 66.9, 66.8, 62.2, 55.7, 64.6, 67.1, 72.3, 68.3, 69. ,\n",
              "       65.1, 66.5, 67.9, 55.3, 55.6])"
            ]
          },
          "metadata": {},
          "execution_count": 40
        }
      ]
    },
    {
      "cell_type": "code",
      "source": [
        "result= stats.linregress(x,y)\n",
        "result"
      ],
      "metadata": {
        "colab": {
          "base_uri": "https://localhost:8080/"
        },
        "id": "pPbeELKriFqq",
        "outputId": "74e451cc-333d-435b-9fad-d5cdeabb4065"
      },
      "execution_count": 39,
      "outputs": [
        {
          "output_type": "execute_result",
          "data": {
            "text/plain": [
              "LinregressResult(slope=4.502214872888972, intercept=39.76139068238348, rvalue=0.7406268830335517, pvalue=3.7073323489746655e-23, stderr=0.3668016053581123)"
            ]
          },
          "metadata": {},
          "execution_count": 39
        }
      ]
    },
    {
      "cell_type": "markdown",
      "source": [
        "slope 4.5 pozitif\n",
        "r 0.74\n",
        "p 3.70\n",
        "e-23 \n",
        "stderr"
      ],
      "metadata": {
        "id": "OiuYBMJEirKD"
      }
    },
    {
      "cell_type": "code",
      "source": [
        "sns.displot(life_exp,kde = True, kind = 'hist');"
      ],
      "metadata": {
        "colab": {
          "base_uri": "https://localhost:8080/",
          "height": 369
        },
        "id": "W2cWCW41n_Dy",
        "outputId": "6799c56d-98bb-4f25-e4ef-6aba97cf3880"
      },
      "execution_count": 41,
      "outputs": [
        {
          "output_type": "display_data",
          "data": {
            "image/png": "[encoded data removed]",
            "text/plain": [
              "<Figure size 360x360 with 1 Axes>"
            ]
          },
          "metadata": {
            "needs_background": "light"
          }
        }
      ]
    }
  ]
}